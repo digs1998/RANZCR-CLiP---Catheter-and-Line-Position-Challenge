{
 "cells": [
  {
   "cell_type": "code",
   "execution_count": 1,
   "metadata": {
    "_cell_guid": "b1076dfc-b9ad-4769-8c92-a6c4dae69d19",
    "_uuid": "8f2839f25d086af736a60e9eeb907d3b93b6e0e5",
    "execution": {
     "iopub.execute_input": "2021-01-10T14:25:49.191994Z",
     "iopub.status.busy": "2021-01-10T14:25:49.191200Z",
     "iopub.status.idle": "2021-01-10T14:25:54.883418Z",
     "shell.execute_reply": "2021-01-10T14:25:54.884586Z"
    },
    "papermill": {
     "duration": 5.717364,
     "end_time": "2021-01-10T14:25:54.884788",
     "exception": false,
     "start_time": "2021-01-10T14:25:49.167424",
     "status": "completed"
    },
    "tags": []
   },
   "outputs": [],
   "source": [
    "# This Python 3 environment comes with many helpful analytics libraries installed\n",
    "# It is defined by the kaggle/python Docker image: https://github.com/kaggle/docker-python\n",
    "# For example, here's several helpful packages to load\n",
    "\n",
    "import numpy as np # linear algebra\n",
    "import pandas as pd # data processing, CSV file I/O (e.g. pd.read_csv)\n",
    "\n",
    "# Input data files are available in the read-only \"../input/\" directory\n",
    "# For example, running this (by clicking run or pressing Shift+Enter) will list all files under the input directory\n",
    "\n",
    "import os\n",
    "import tensorflow as tf\n",
    "from tensorflow import keras\n",
    "from tensorflow.keras.applications import *\n",
    "from tensorflow.keras import Model\n",
    "from tensorflow.keras.layers import *\n",
    "import matplotlib.pyplot as plt\n",
    "\n",
    "import seaborn as sns\n",
    "import cv2\n",
    "import re\n",
    "# You can write up to 20GB to the current directory (/kaggle/working/) that gets preserved as output when you create a version using \"Save & Run All\" \n",
    "# You can also write temporary files to /kaggle/temp/, but they won't be saved outside of the current session"
   ]
  },
  {
   "cell_type": "code",
   "execution_count": 2,
   "metadata": {
    "_cell_guid": "79c7e3d0-c299-4dcb-8224-4455121ee9b0",
    "_uuid": "d629ff2d2480ee46fbb7e2d37f6b5fab8052498a",
    "execution": {
     "iopub.execute_input": "2021-01-10T14:25:54.935701Z",
     "iopub.status.busy": "2021-01-10T14:25:54.934848Z",
     "iopub.status.idle": "2021-01-10T14:25:55.243112Z",
     "shell.execute_reply": "2021-01-10T14:25:55.242549Z"
    },
    "papermill": {
     "duration": 0.337743,
     "end_time": "2021-01-10T14:25:55.243234",
     "exception": false,
     "start_time": "2021-01-10T14:25:54.905491",
     "status": "completed"
    },
    "tags": []
   },
   "outputs": [],
   "source": [
    "dataset_dir = '../input/ranzcr-clip-catheter-line-classification/'\n",
    "train_df = pd.read_csv(os.path.join(dataset_dir, 'train.csv'))\n",
    "\n",
    "train_img = os.path.join(dataset_dir,'train')\n",
    "train_annotations_df = pd.read_csv(os.path.join(dataset_dir, 'train_annotations.csv'))"
   ]
  },
  {
   "cell_type": "code",
   "execution_count": 3,
   "metadata": {
    "execution": {
     "iopub.execute_input": "2021-01-10T14:25:55.295098Z",
     "iopub.status.busy": "2021-01-10T14:25:55.294078Z",
     "iopub.status.idle": "2021-01-10T14:25:55.306348Z",
     "shell.execute_reply": "2021-01-10T14:25:55.306882Z"
    },
    "papermill": {
     "duration": 0.048499,
     "end_time": "2021-01-10T14:25:55.307056",
     "exception": false,
     "start_time": "2021-01-10T14:25:55.258557",
     "status": "completed"
    },
    "tags": []
   },
   "outputs": [
    {
     "data": {
      "text/html": [
       "<div>\n",
       "<style scoped>\n",
       "    .dataframe tbody tr th:only-of-type {\n",
       "        vertical-align: middle;\n",
       "    }\n",
       "\n",
       "    .dataframe tbody tr th {\n",
       "        vertical-align: top;\n",
       "    }\n",
       "\n",
       "    .dataframe thead th {\n",
       "        text-align: right;\n",
       "    }\n",
       "</style>\n",
       "<table border=\"1\" class=\"dataframe\">\n",
       "  <thead>\n",
       "    <tr style=\"text-align: right;\">\n",
       "      <th></th>\n",
       "      <th>StudyInstanceUID</th>\n",
       "      <th>ETT - Abnormal</th>\n",
       "      <th>ETT - Borderline</th>\n",
       "      <th>ETT - Normal</th>\n",
       "      <th>NGT - Abnormal</th>\n",
       "      <th>NGT - Borderline</th>\n",
       "      <th>NGT - Incompletely Imaged</th>\n",
       "      <th>NGT - Normal</th>\n",
       "      <th>CVC - Abnormal</th>\n",
       "      <th>CVC - Borderline</th>\n",
       "      <th>CVC - Normal</th>\n",
       "      <th>Swan Ganz Catheter Present</th>\n",
       "      <th>PatientID</th>\n",
       "    </tr>\n",
       "  </thead>\n",
       "  <tbody>\n",
       "    <tr>\n",
       "      <th>0</th>\n",
       "      <td>1.2.826.0.1.3680043.8.498.26697628953273228189...</td>\n",
       "      <td>0</td>\n",
       "      <td>0</td>\n",
       "      <td>0</td>\n",
       "      <td>0</td>\n",
       "      <td>0</td>\n",
       "      <td>0</td>\n",
       "      <td>1</td>\n",
       "      <td>0</td>\n",
       "      <td>0</td>\n",
       "      <td>0</td>\n",
       "      <td>0</td>\n",
       "      <td>ec89415d1</td>\n",
       "    </tr>\n",
       "    <tr>\n",
       "      <th>1</th>\n",
       "      <td>1.2.826.0.1.3680043.8.498.46302891597398758759...</td>\n",
       "      <td>0</td>\n",
       "      <td>0</td>\n",
       "      <td>1</td>\n",
       "      <td>0</td>\n",
       "      <td>0</td>\n",
       "      <td>1</td>\n",
       "      <td>0</td>\n",
       "      <td>0</td>\n",
       "      <td>0</td>\n",
       "      <td>1</td>\n",
       "      <td>0</td>\n",
       "      <td>bf4c6da3c</td>\n",
       "    </tr>\n",
       "    <tr>\n",
       "      <th>2</th>\n",
       "      <td>1.2.826.0.1.3680043.8.498.23819260719748494858...</td>\n",
       "      <td>0</td>\n",
       "      <td>0</td>\n",
       "      <td>0</td>\n",
       "      <td>0</td>\n",
       "      <td>0</td>\n",
       "      <td>0</td>\n",
       "      <td>0</td>\n",
       "      <td>0</td>\n",
       "      <td>1</td>\n",
       "      <td>0</td>\n",
       "      <td>0</td>\n",
       "      <td>3fc1c97e5</td>\n",
       "    </tr>\n",
       "    <tr>\n",
       "      <th>3</th>\n",
       "      <td>1.2.826.0.1.3680043.8.498.68286643202323212801...</td>\n",
       "      <td>0</td>\n",
       "      <td>0</td>\n",
       "      <td>0</td>\n",
       "      <td>0</td>\n",
       "      <td>0</td>\n",
       "      <td>0</td>\n",
       "      <td>0</td>\n",
       "      <td>1</td>\n",
       "      <td>0</td>\n",
       "      <td>0</td>\n",
       "      <td>0</td>\n",
       "      <td>c31019814</td>\n",
       "    </tr>\n",
       "    <tr>\n",
       "      <th>4</th>\n",
       "      <td>1.2.826.0.1.3680043.8.498.10050203009225938259...</td>\n",
       "      <td>0</td>\n",
       "      <td>0</td>\n",
       "      <td>0</td>\n",
       "      <td>0</td>\n",
       "      <td>0</td>\n",
       "      <td>0</td>\n",
       "      <td>0</td>\n",
       "      <td>0</td>\n",
       "      <td>0</td>\n",
       "      <td>1</td>\n",
       "      <td>0</td>\n",
       "      <td>207685cd1</td>\n",
       "    </tr>\n",
       "  </tbody>\n",
       "</table>\n",
       "</div>"
      ],
      "text/plain": [
       "                                    StudyInstanceUID  ETT - Abnormal  \\\n",
       "0  1.2.826.0.1.3680043.8.498.26697628953273228189...               0   \n",
       "1  1.2.826.0.1.3680043.8.498.46302891597398758759...               0   \n",
       "2  1.2.826.0.1.3680043.8.498.23819260719748494858...               0   \n",
       "3  1.2.826.0.1.3680043.8.498.68286643202323212801...               0   \n",
       "4  1.2.826.0.1.3680043.8.498.10050203009225938259...               0   \n",
       "\n",
       "   ETT - Borderline  ETT - Normal  NGT - Abnormal  NGT - Borderline  \\\n",
       "0                 0             0               0                 0   \n",
       "1                 0             1               0                 0   \n",
       "2                 0             0               0                 0   \n",
       "3                 0             0               0                 0   \n",
       "4                 0             0               0                 0   \n",
       "\n",
       "   NGT - Incompletely Imaged  NGT - Normal  CVC - Abnormal  CVC - Borderline  \\\n",
       "0                          0             1               0                 0   \n",
       "1                          1             0               0                 0   \n",
       "2                          0             0               0                 1   \n",
       "3                          0             0               1                 0   \n",
       "4                          0             0               0                 0   \n",
       "\n",
       "   CVC - Normal  Swan Ganz Catheter Present  PatientID  \n",
       "0             0                           0  ec89415d1  \n",
       "1             1                           0  bf4c6da3c  \n",
       "2             0                           0  3fc1c97e5  \n",
       "3             0                           0  c31019814  \n",
       "4             1                           0  207685cd1  "
      ]
     },
     "execution_count": 3,
     "metadata": {},
     "output_type": "execute_result"
    }
   ],
   "source": [
    "train_df.head(5)"
   ]
  },
  {
   "cell_type": "code",
   "execution_count": 4,
   "metadata": {
    "execution": {
     "iopub.execute_input": "2021-01-10T14:25:55.344786Z",
     "iopub.status.busy": "2021-01-10T14:25:55.344045Z",
     "iopub.status.idle": "2021-01-10T14:25:55.347832Z",
     "shell.execute_reply": "2021-01-10T14:25:55.347317Z"
    },
    "papermill": {
     "duration": 0.024097,
     "end_time": "2021-01-10T14:25:55.347960",
     "exception": false,
     "start_time": "2021-01-10T14:25:55.323863",
     "status": "completed"
    },
    "tags": []
   },
   "outputs": [],
   "source": [
    "seed = 456\n",
    "batch_size = 16\n",
    "np.random.seed(seed)\n",
    "tf.random.set_seed(seed)"
   ]
  },
  {
   "cell_type": "code",
   "execution_count": 5,
   "metadata": {
    "execution": {
     "iopub.execute_input": "2021-01-10T14:25:55.391482Z",
     "iopub.status.busy": "2021-01-10T14:25:55.387149Z",
     "iopub.status.idle": "2021-01-10T14:25:55.394334Z",
     "shell.execute_reply": "2021-01-10T14:25:55.393760Z"
    },
    "papermill": {
     "duration": 0.030888,
     "end_time": "2021-01-10T14:25:55.394431",
     "exception": false,
     "start_time": "2021-01-10T14:25:55.363543",
     "status": "completed"
    },
    "tags": []
   },
   "outputs": [],
   "source": [
    "img_size = 256\n",
    "train_tfr = os.path.join(dataset_dir, \"train_tfrecords\")\n",
    "\n",
    "autotune = tf.data.experimental.AUTOTUNE\n",
    "\n",
    "feature_map = {\n",
    "        'ETT - Abnormal' : tf.io.FixedLenFeature([], tf.int64),\n",
    "        'ETT - Borderline' : tf.io.FixedLenFeature([], tf.int64),\n",
    "        'ETT - Normal' : tf.io.FixedLenFeature([], tf.int64),\n",
    "        \"NGT - Abnormal\" : tf.io.FixedLenFeature([], tf.int64),\n",
    "        'NGT - Borderline' : tf.io.FixedLenFeature([], tf.int64),\n",
    "        'NGT - Incompletely Imaged' : tf.io.FixedLenFeature([], tf.int64),\n",
    "        'NGT - Normal' : tf.io.FixedLenFeature([], tf.int64),\n",
    "        'CVC - Abnormal' : tf.io.FixedLenFeature([], tf.int64),\n",
    "        'CVC - Borderline': tf.io.FixedLenFeature([], tf.int64),\n",
    "        'CVC - Normal': tf.io.FixedLenFeature([], tf.int64),\n",
    "        'StudyInstanceUID' : tf.io.FixedLenFeature([], tf.string),\n",
    "        'Swan Ganz Catheter Present' : tf.io.FixedLenFeature([], tf.int64),\n",
    "        'image' : tf.io.FixedLenFeature([], tf.string)\n",
    "    }"
   ]
  },
  {
   "cell_type": "code",
   "execution_count": 6,
   "metadata": {
    "execution": {
     "iopub.execute_input": "2021-01-10T14:25:55.435752Z",
     "iopub.status.busy": "2021-01-10T14:25:55.434981Z",
     "iopub.status.idle": "2021-01-10T14:25:55.439070Z",
     "shell.execute_reply": "2021-01-10T14:25:55.438443Z"
    },
    "papermill": {
     "duration": 0.028705,
     "end_time": "2021-01-10T14:25:55.439181",
     "exception": false,
     "start_time": "2021-01-10T14:25:55.410476",
     "status": "completed"
    },
    "tags": []
   },
   "outputs": [],
   "source": [
    "def read_tfrecords(example):\n",
    "    example = tf.io.parse_single_example(example, feature_map)\n",
    "    #decoding images\n",
    "    image = tf.image.decode_jpeg(example['image'])\n",
    "    #converting grayscale to rgb\n",
    "    image = tf.image.grayscale_to_rgb(image)\n",
    "    #resizing images\n",
    "    image = tf.image.resize(image, (img_size, img_size))\n",
    "    \n",
    "    if augmenter:\n",
    "        image = augment(image)\n",
    "    \n",
    "    image = image/255\n",
    "    \n",
    "    features = tf.stack([\n",
    "        example['ETT - Abnormal'],\n",
    "        example['ETT - Borderline'],\n",
    "        example['ETT - Normal'],\n",
    "        example[\"NGT - Abnormal\"],\n",
    "        example['NGT - Borderline'],\n",
    "        example['NGT - Incompletely Imaged'],\n",
    "        example['NGT - Normal'],\n",
    "        example['CVC - Abnormal'],\n",
    "        example['CVC - Borderline'],\n",
    "        example['CVC - Normal'],\n",
    "        example['Swan Ganz Catheter Present']\n",
    "        ])\n",
    "    \n",
    "    \n",
    "    return image, features"
   ]
  },
  {
   "cell_type": "code",
   "execution_count": 7,
   "metadata": {
    "execution": {
     "iopub.execute_input": "2021-01-10T14:25:55.484886Z",
     "iopub.status.busy": "2021-01-10T14:25:55.484118Z",
     "iopub.status.idle": "2021-01-10T14:25:55.614297Z",
     "shell.execute_reply": "2021-01-10T14:25:55.613687Z"
    },
    "papermill": {
     "duration": 0.158961,
     "end_time": "2021-01-10T14:25:55.614432",
     "exception": false,
     "start_time": "2021-01-10T14:25:55.455471",
     "status": "completed"
    },
    "tags": []
   },
   "outputs": [],
   "source": [
    "import tensorflow_addons as tfa\n",
    "\n",
    "def load_dataset(filenames, aug):\n",
    "    \n",
    "    tfrecords = tf.data.TFRecordDataset(filenames)\n",
    "    \n",
    "    tfrecords = tfrecords.map(read_tfrecords, num_parallel_calls = autotune)\n",
    "    \n",
    "    return tfrecords\n",
    "\n",
    "def augment(image):\n",
    "    \n",
    "    decider = tf.random.uniform(shape = (1,1), minval = 0, maxval = 1)\n",
    "    \n",
    "    if decider > 0.5:\n",
    "        dx_dy = tf.random.uniform(shape = (1,2), minval = -20, maxval = 20)\n",
    "        image = tf.image.random_flip_left_right(image)\n",
    "        image = tf.image.random_flip_up_down(image)\n",
    "        image = tf.image.random_brightness(image, 0.5)\n",
    "        image = tf.image.random_contrast(image, 0.2, 0.5)\n",
    "\n",
    "        image = tfa.image.translate(image, dx_dy)\n",
    "\n",
    "    \n",
    "    return image\n",
    "\n",
    "def class_func(images, label):\n",
    "    return label\n",
    "    \n",
    "    \n",
    "def get_dataset(filenames, aug):\n",
    "    \n",
    "    global augmenter\n",
    "    \n",
    "    augmenter = aug\n",
    "\n",
    "    \n",
    "    ds = load_dataset(filenames,augmenter)\n",
    "    ds = ds.batch(batch_size)\n",
    "    #ds = ds.shuffle(512)\n",
    "    #ds = ds.cache()\n",
    "    ds = ds.repeat()\n",
    "    ds = ds.prefetch(autotune)\n",
    "    \n",
    "    return ds"
   ]
  },
  {
   "cell_type": "code",
   "execution_count": 8,
   "metadata": {
    "execution": {
     "iopub.execute_input": "2021-01-10T14:25:55.654126Z",
     "iopub.status.busy": "2021-01-10T14:25:55.653408Z",
     "iopub.status.idle": "2021-01-10T14:25:55.664895Z",
     "shell.execute_reply": "2021-01-10T14:25:55.664308Z"
    },
    "papermill": {
     "duration": 0.034041,
     "end_time": "2021-01-10T14:25:55.665052",
     "exception": false,
     "start_time": "2021-01-10T14:25:55.631011",
     "status": "completed"
    },
    "tags": []
   },
   "outputs": [],
   "source": [
    "validation_split = 0.25\n",
    "TFR_fnames = tf.io.gfile.glob(train_tfr + '/*.tfrec')\n",
    "TFR_fnames_train = TFR_fnames[int(len(TFR_fnames) * validation_split):]\n",
    "TFR_fnames_valid = TFR_fnames[:int(len(TFR_fnames) * validation_split)]"
   ]
  },
  {
   "cell_type": "code",
   "execution_count": 9,
   "metadata": {
    "execution": {
     "iopub.execute_input": "2021-01-10T14:25:58.145121Z",
     "iopub.status.busy": "2021-01-10T14:25:58.144321Z",
     "iopub.status.idle": "2021-01-10T14:25:59.648382Z",
     "shell.execute_reply": "2021-01-10T14:25:59.647767Z"
    },
    "papermill": {
     "duration": 3.966371,
     "end_time": "2021-01-10T14:25:59.648500",
     "exception": false,
     "start_time": "2021-01-10T14:25:55.682129",
     "status": "completed"
    },
    "tags": []
   },
   "outputs": [],
   "source": [
    "train_dataset = get_dataset(TFR_fnames_train, True)\n",
    "valid_dataset = get_dataset(TFR_fnames_valid, False)"
   ]
  },
  {
   "attachments": {},
   "cell_type": "markdown",
   "metadata": {
    "papermill": {
     "duration": 0.017096,
     "end_time": "2021-01-10T14:25:59.682298",
     "exception": false,
     "start_time": "2021-01-10T14:25:59.665202",
     "status": "completed"
    },
    "tags": []
   },
   "source": [
    "# Xception\n",
    "\n",
    "**It is an Depthwise separable covolutions based pretrained model which was first proposed in 2017, more can be read from [here](https://arxiv.org/pdf/1610.02357.pdf)**\n"
   ]
  },
  {
   "cell_type": "code",
   "execution_count": 10,
   "metadata": {
    "execution": {
     "iopub.execute_input": "2021-01-10T14:25:59.726708Z",
     "iopub.status.busy": "2021-01-10T14:25:59.725923Z",
     "iopub.status.idle": "2021-01-10T14:26:05.377838Z",
     "shell.execute_reply": "2021-01-10T14:26:05.378660Z"
    },
    "papermill": {
     "duration": 5.680035,
     "end_time": "2021-01-10T14:26:05.378873",
     "exception": false,
     "start_time": "2021-01-10T14:25:59.698838",
     "status": "completed"
    },
    "tags": []
   },
   "outputs": [
    {
     "name": "stdout",
     "output_type": "stream",
     "text": [
      "Model: \"functional_1\"\n",
      "_________________________________________________________________\n",
      "Layer (type)                 Output Shape              Param #   \n",
      "=================================================================\n",
      "input_2 (InputLayer)         [(None, 256, 256, 3)]     0         \n",
      "_________________________________________________________________\n",
      "xception (Functional)        (None, 8, 8, 2048)        20861480  \n",
      "_________________________________________________________________\n",
      "global_average_pooling2d (Gl (None, 2048)              0         \n",
      "_________________________________________________________________\n",
      "dense (Dense)                (None, 1024)              2098176   \n",
      "_________________________________________________________________\n",
      "dense_1 (Dense)              (None, 11)                11275     \n",
      "=================================================================\n",
      "Total params: 22,970,931\n",
      "Trainable params: 22,916,403\n",
      "Non-trainable params: 54,528\n",
      "_________________________________________________________________\n"
     ]
    }
   ],
   "source": [
    "def create_model(base_model):\n",
    "    inputs = tf.keras.Input(shape = (img_size, img_size, 3,))\n",
    "    x = base_model(inputs)\n",
    "    x = tf.keras.layers.GlobalAveragePooling2D()(x)\n",
    "    x = tf.keras.layers.Dense(1024, activation = 'relu')(x)\n",
    "    outputs = tf.keras.layers.Dense(11, activation = 'sigmoid')(x)\n",
    "    \n",
    "    model = tf.keras.Model(inputs = inputs, outputs = outputs)\n",
    "    \n",
    "    model.summary()\n",
    "    \n",
    "    optimizer = tf.keras.optimizers.Adam(9e-6)\n",
    "    model.compile(loss = 'binary_crossentropy', optimizer = optimizer, metrics = [tf.keras.metrics.AUC(multi_label=True)])\n",
    "    \n",
    "    return model\n",
    "\n",
    "Xception = Xception(include_top = False,\n",
    "                     weights = '../input/keras-pretrained-models/xception_weights_tf_dim_ordering_tf_kernels_notop.h5',\n",
    "                    input_shape = (img_size, img_size, 3))\n",
    "\n",
    "Xception.trainable  = True\n",
    "\n",
    "xception = create_model(Xception)"
   ]
  },
  {
   "cell_type": "markdown",
   "metadata": {
    "papermill": {
     "duration": 0.026845,
     "end_time": "2021-01-10T14:26:05.433333",
     "exception": false,
     "start_time": "2021-01-10T14:26:05.406488",
     "status": "completed"
    },
    "tags": []
   },
   "source": [
    "# Checking Data to be Trained"
   ]
  },
  {
   "cell_type": "code",
   "execution_count": 11,
   "metadata": {
    "execution": {
     "iopub.execute_input": "2021-01-10T14:26:05.492896Z",
     "iopub.status.busy": "2021-01-10T14:26:05.491893Z",
     "iopub.status.idle": "2021-01-10T14:26:53.033582Z",
     "shell.execute_reply": "2021-01-10T14:26:53.034401Z"
    },
    "papermill": {
     "duration": 47.57506,
     "end_time": "2021-01-10T14:26:53.034561",
     "exception": false,
     "start_time": "2021-01-10T14:26:05.459501",
     "status": "completed"
    },
    "tags": []
   },
   "outputs": [
    {
     "name": "stdout",
     "output_type": "stream",
     "text": [
      "There are: 22559 train samples and 7524 validation samples\n"
     ]
    }
   ],
   "source": [
    "train_samples = sum(1 for _ in tf.data.TFRecordDataset(TFR_fnames_train))\n",
    "valid_samples = sum(1 for _ in tf.data.TFRecordDataset(TFR_fnames_valid))\n",
    "print(\"There are: \" + str(train_samples) + \" train samples and \" + str(valid_samples) + \" validation samples\")"
   ]
  },
  {
   "cell_type": "code",
   "execution_count": 12,
   "metadata": {
    "execution": {
     "iopub.execute_input": "2021-01-10T14:26:53.078630Z",
     "iopub.status.busy": "2021-01-10T14:26:53.077859Z",
     "iopub.status.idle": "2021-01-10T14:30:44.261145Z",
     "shell.execute_reply": "2021-01-10T14:30:44.262298Z"
    },
    "papermill": {
     "duration": 231.209164,
     "end_time": "2021-01-10T14:30:44.262574",
     "exception": false,
     "start_time": "2021-01-10T14:26:53.053410",
     "status": "completed"
    },
    "tags": []
   },
   "outputs": [
    {
     "name": "stdout",
     "output_type": "stream",
     "text": [
      "Epoch 1/15\n",
      "250/250 [==============================] - 111s 445ms/step - loss: 0.4129 - auc: 0.6061 - val_loss: 0.3014 - val_auc: 0.6660\n",
      "Epoch 2/15\n",
      "250/250 [==============================] - 110s 441ms/step - loss: 0.2563 - auc: 0.7330 - val_loss: 0.3184 - val_auc: 0.6525\n"
     ]
    }
   ],
   "source": [
    "epochs = 15\n",
    "\n",
    "callbacks = [tf.keras.callbacks.EarlyStopping(monitor = 'val_auc',\n",
    "                                              mode = 'max',\n",
    "                                             patience = 1  ,\n",
    "                                             restore_best_weights = True)]\n",
    "\n",
    "history = xception.fit(train_dataset, epochs = epochs,\n",
    "             validation_data = valid_dataset, \n",
    "              steps_per_epoch = 250,\n",
    "             validation_steps = 250, \n",
    "              callbacks = callbacks,\n",
    "             verbose = 1)"
   ]
  },
  {
   "cell_type": "markdown",
   "metadata": {
    "papermill": {
     "duration": 0.199039,
     "end_time": "2021-01-10T14:30:44.664010",
     "exception": false,
     "start_time": "2021-01-10T14:30:44.464971",
     "status": "completed"
    },
    "tags": []
   },
   "source": [
    "# Plotting the Metrics"
   ]
  },
  {
   "cell_type": "code",
   "execution_count": 13,
   "metadata": {
    "execution": {
     "iopub.execute_input": "2021-01-10T14:30:45.084157Z",
     "iopub.status.busy": "2021-01-10T14:30:45.083328Z",
     "iopub.status.idle": "2021-01-10T14:30:45.578199Z",
     "shell.execute_reply": "2021-01-10T14:30:45.577611Z"
    },
    "papermill": {
     "duration": 0.709617,
     "end_time": "2021-01-10T14:30:45.578321",
     "exception": false,
     "start_time": "2021-01-10T14:30:44.868704",
     "status": "completed"
    },
    "tags": []
   },
   "outputs": [
    {
     "data": {
      "image/png": "[encoded data removed]",
      "text/plain": [
       "<Figure size 864x864 with 2 Axes>"
      ]
     },
     "metadata": {
      "needs_background": "light"
     },
     "output_type": "display_data"
    }
   ],
   "source": [
    "plt.rcParams.update({'font.size': 16})\n",
    "hist = pd.DataFrame(history.history)\n",
    "fig, (ax1, ax2) = plt.subplots(figsize=(12,12),nrows=2, ncols=1)\n",
    "hist['loss'].plot(ax=ax1,c='k',label='training loss')\n",
    "hist['val_loss'].plot(ax=ax1,c='r',linestyle='--', label='validation loss')\n",
    "ax1.legend()\n",
    "hist['auc'].plot(ax=ax2,c='k',label='training AUC')\n",
    "hist['val_auc'].plot(ax=ax2,c='r',linestyle='--',label='validation AUC')\n",
    "ax2.legend()\n",
    "plt.show()"
   ]
  },
  {
   "cell_type": "markdown",
   "metadata": {
    "papermill": {
     "duration": 0.204134,
     "end_time": "2021-01-10T14:30:45.983868",
     "exception": false,
     "start_time": "2021-01-10T14:30:45.779734",
     "status": "completed"
    },
    "tags": []
   },
   "source": [
    "# Submissions"
   ]
  },
  {
   "cell_type": "code",
   "execution_count": 14,
   "metadata": {
    "execution": {
     "iopub.execute_input": "2021-01-10T14:30:46.418552Z",
     "iopub.status.busy": "2021-01-10T14:30:46.417762Z",
     "iopub.status.idle": "2021-01-10T14:31:10.996269Z",
     "shell.execute_reply": "2021-01-10T14:31:10.994976Z"
    },
    "papermill": {
     "duration": 24.804747,
     "end_time": "2021-01-10T14:31:10.996406",
     "exception": false,
     "start_time": "2021-01-10T14:30:46.191659",
     "status": "completed"
    },
    "tags": []
   },
   "outputs": [],
   "source": [
    "from sklearn.metrics import classification_report\n",
    "\n",
    "\n",
    "test_dir = \"../input/ranzcr-clip-catheter-line-classification/test_tfrecords\"\n",
    "TFR_fnames_test = tf.io.gfile.glob(test_dir + '/*.tfrec')\n",
    "\n",
    "test_feature_map = {\n",
    "    \"StudyInstanceUID\" : tf.io.FixedLenFeature([], tf.string),\n",
    "    \"image\" : tf.io.FixedLenFeature([], tf.string)\n",
    "    }\n",
    "\n",
    "def read_tfr(example):\n",
    "    \n",
    "    example = tf.io.parse_single_example(example, test_feature_map)\n",
    "    \n",
    "    image = tf.io.decode_jpeg(example['image'])\n",
    "    \n",
    "    image = tf.image.resize(image, (img_size,img_size))\n",
    "    \n",
    "    image = tf.image.grayscale_to_rgb(image)\n",
    "    \n",
    "    image = image / 255\n",
    "    \n",
    "    return image\n",
    "\n",
    "\n",
    "\n",
    "def load_ds(filenames):\n",
    "    \n",
    "    tfrecords = tf.data.TFRecordDataset(filenames)\n",
    "    \n",
    "    tfrecords = tfrecords.map(read_tfr, num_parallel_calls = autotune)\n",
    "    \n",
    "    return tfrecords\n",
    "    \n",
    "    \n",
    "def get_ds(filenames):\n",
    "    \n",
    "    ds = load_ds(filenames)\n",
    "    ds = ds.batch(4)\n",
    "    ds = ds.prefetch(autotune)\n",
    "    \n",
    "    return ds\n",
    "\n",
    "def read_ids(example):\n",
    "    \n",
    "    example = tf.io.parse_single_example(example, test_feature_map)\n",
    "    ids = example['StudyInstanceUID']\n",
    "    \n",
    "    \n",
    "    return ids\n",
    "\n",
    "def load_ds_ids(filenames):\n",
    "    \n",
    "    tfrecords = tf.data.TFRecordDataset(filenames)\n",
    "    \n",
    "    tfrecords = tfrecords.map(read_ids, num_parallel_calls = autotune)\n",
    "    \n",
    "    return tfrecords\n",
    "    \n",
    "    \n",
    "def get_ds_ids(filenames):\n",
    "    \n",
    "    ds = load_ds_ids(filenames)\n",
    "    ds = ds.batch(test_samples)\n",
    "    ds = ds.prefetch(autotune)\n",
    "    \n",
    "    return ds\n",
    "\n",
    "test_samples = sum(1 for _ in tf.data.TFRecordDataset(TFR_fnames_test))\n",
    "test_ds = get_ds(TFR_fnames_test)\n",
    "test_ids = get_ds_ids(TFR_fnames_test)\n",
    "\n",
    "y_preds = xception.predict(test_ds, batch_size=4)\n",
    "\n",
    "results = pd.DataFrame(y_preds)"
   ]
  },
  {
   "cell_type": "code",
   "execution_count": 15,
   "metadata": {
    "execution": {
     "iopub.execute_input": "2021-01-10T14:31:11.415704Z",
     "iopub.status.busy": "2021-01-10T14:31:11.414795Z",
     "iopub.status.idle": "2021-01-10T14:31:12.057205Z",
     "shell.execute_reply": "2021-01-10T14:31:12.055785Z"
    },
    "papermill": {
     "duration": 0.854521,
     "end_time": "2021-01-10T14:31:12.057362",
     "exception": false,
     "start_time": "2021-01-10T14:31:11.202841",
     "status": "completed"
    },
    "tags": []
   },
   "outputs": [],
   "source": [
    "ids = next(iter(test_ids)).numpy()\n",
    "\n",
    "for i in range(ids.shape[0]):\n",
    "    ex = str(ids[i])\n",
    "    ex = ex[2:-1]\n",
    "    ids[i] = ex\n",
    "ids = pd.Series(ids)\n",
    "\n",
    "columns = ['StudyInstanceUID', 'ETT - Abnormal', 'ETT - Borderline', 'ETT - Normal',\n",
    "           \"NGT - Abnormal\", 'NGT - Borderline','NGT - Incompletely Imaged',\n",
    "           'NGT - Normal', 'CVC - Abnormal','CVC - Borderline',\n",
    "           'CVC - Normal','Swan Ganz Catheter Present']\n",
    "\n",
    "results_df = pd.concat([ids, results], axis = 1)\n",
    "results_df.columns = columns\n",
    "results_df.to_csv('submission.csv', index = False)"
   ]
  },
  {
   "cell_type": "code",
   "execution_count": null,
   "metadata": {
    "papermill": {
     "duration": 0.204053,
     "end_time": "2021-01-10T14:31:12.465461",
     "exception": false,
     "start_time": "2021-01-10T14:31:12.261408",
     "status": "completed"
    },
    "tags": []
   },
   "outputs": [],
   "source": []
  },
  {
   "cell_type": "markdown",
   "metadata": {
    "papermill": {
     "duration": 0.195568,
     "end_time": "2021-01-10T14:31:12.858984",
     "exception": false,
     "start_time": "2021-01-10T14:31:12.663416",
     "status": "completed"
    },
    "tags": []
   },
   "source": [
    "# References\n",
    "1. https://www.kaggle.com/tpothjuan/efficientnetb7-resnet50-ensemble-tfrecords\n",
    "2. https://keras.io/examples/keras_recipes/tfrecord/\n",
    "3. https://arxiv.org/abs/1610.02357"
   ]
  },
  {
   "cell_type": "code",
   "execution_count": null,
   "metadata": {
    "papermill": {
     "duration": 0.544772,
     "end_time": "2021-01-10T14:31:13.709243",
     "exception": false,
     "start_time": "2021-01-10T14:31:13.164471",
     "status": "completed"
    },
    "tags": []
   },
   "outputs": [],
   "source": []
  }
 ],
 "metadata": {
  "kernelspec": {
   "display_name": "Python 3",
   "language": "python",
   "name": "python3"
  },
  "language_info": {
   "codemirror_mode": {
    "name": "ipython",
    "version": 3
   },
   "file_extension": ".py",
   "mimetype": "text/x-python",
   "name": "python",
   "nbconvert_exporter": "python",
   "pygments_lexer": "ipython3",
   "version": "3.7.6"
  },
  "papermill": {
   "duration": 330.963965,
   "end_time": "2021-01-10T14:31:15.734394",
   "environment_variables": {},
   "exception": null,
   "input_path": "__notebook__.ipynb",
   "output_path": "__notebook__.ipynb",
   "parameters": {},
   "start_time": "2021-01-10T14:25:44.770429",
   "version": "2.1.0"
  }
 },
 "nbformat": 4,
 "nbformat_minor": 4
}
